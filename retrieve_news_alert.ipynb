{
 "cells": [
  {
   "cell_type": "markdown",
   "metadata": {},
   "source": [
    "# Some preparation steps\n",
    "\n",
    "1. Install `miniforge3` on your laptop in order to use Python and other packages.\n",
    "2. Install python packages using `pip` as below."
   ]
  },
  {
   "cell_type": "code",
   "execution_count": null,
   "metadata": {},
   "outputs": [],
   "source": [
    "# !curl -L -O \"https://github.com/conda-forge/miniforge/releases/latest/download/Miniforge3-$(uname)-$(uname -m).sh\"\n",
    "# !bash Miniforge3-$(uname)-$(uname -m).sh"
   ]
  },
  {
   "cell_type": "code",
   "execution_count": null,
   "metadata": {},
   "outputs": [],
   "source": [
    "# !pip install --upgrade google-api-python-client google-auth-httplib2 google-auth-oauthlib beautifulsoup4 pyperclip openai scikit-learn"
   ]
  },
  {
   "cell_type": "markdown",
   "metadata": {},
   "source": [
    "# Importing necessary functions\n",
    "\n",
    "1. Make sure to import functions to properly display markdowns.\n",
    "2. Import necessary functions we implemented from `retrieve_news_alert.py` and `summarize_with_openai`."
   ]
  },
  {
   "cell_type": "code",
   "execution_count": 1,
   "metadata": {},
   "outputs": [],
   "source": [
    "from IPython.display import Markdown, display\n",
    "\n",
    "import numpy as np\n",
    "\n",
    "from retrieve_news_alert import *\n",
    "from summarize_with_openai import *"
   ]
  },
  {
   "cell_type": "markdown",
   "metadata": {},
   "source": [
    "# Prepare API access\n",
    "\n",
    "1. Prepare GMail authorization: if already done, it should happen without any prompt.\n",
    "2. Read OpenAI API key from `openai_api_key.txt`."
   ]
  },
  {
   "cell_type": "code",
   "execution_count": 2,
   "metadata": {},
   "outputs": [],
   "source": [
    "service = authenticate_gmail()\n",
    "with open('openai_api_key.txt', 'r') as f:\n",
    "    key = f.readline().strip()"
   ]
  },
  {
   "cell_type": "markdown",
   "metadata": {},
   "source": [
    "# Retrieve initial emails\n",
    "\n",
    "1. Retrieve all emails from Bloomberg with \"Alert\" in the subject from Gmail.\n",
    "2. Extract the main contents from HTML.\n",
    "3. Create a topic list using OpenAI's API."
   ]
  },
  {
   "cell_type": "code",
   "execution_count": 3,
   "metadata": {},
   "outputs": [
    {
     "name": "stdout",
     "output_type": "stream",
     "text": [
      "Total 47 news articles have been retrieved.\n"
     ]
    }
   ],
   "source": [
    "emails = get_emails(service, days=1, query=f'from:Bloomberg subject:Alert')\n",
    "articles = format_emails(emails)"
   ]
  },
  {
   "cell_type": "code",
   "execution_count": 4,
   "metadata": {},
   "outputs": [
    {
     "data": {
      "text/markdown": [
       "- **US-China Relations:**\n",
       "  - Chinese ‘Provocations’ in Military Drills Around Taiwan\n",
       "  - Taiwan’s Status Risks Igniting a US-China Clash\n",
       "  - US Extends Some China Tariffs Exclusions \n",
       "- **Political Developments:**\n",
       "  - Rapid Deployment to Haiti After Missionaries Killed\n",
       "  - Biden Extends Tariff Exemptions from China\n",
       "  - Kennedy Hits Trump’s Covid Response\n",
       "  - Biden’s Labor Board Picks and Trump Winning Election Clash\n",
       "  - Senator Urges Changes to Proposed Hydrogen Tax Credit Rules\n",
       "- **Economic Impact:**\n",
       "  - $5 Trillion Risk from China ‘Blockade Simulation’\n",
       "  - Power Utilities Ask Court to Block Biden Pollution Curbs\n",
       "  - Louisiana Criminalizes Possessing Abortion Pills\n",
       "  - US Debt Path Seen Entering a Danger Zone\n",
       "- **International Relations:**\n",
       "  - Hong Kong, Guangdong, Macau Officials Visit US\n",
       "  - US to Send Team to Cairo for Rafah Crossing Talks\n",
       "  - UAE President to Visit China After Invite From Xi\n",
       "- **Tech and Trade Policies:**\n",
       "  - Schwarzman Supporting Trump\n",
       "  - FDIC Delayed Misconduct Allegations Report\n",
       "  - Biden's Tech Diplomacy with Kenya\n",
       "- **Legislation and Regulations:**\n",
       "  - FDIC Candidate for New Chair\n",
       "  - House Appropriators Begin FY 2025 Funding Sprint\n",
       "  - Federal Privacy Bill Confusion Over Using Kids’ Data\n",
       "- **Environmental Concerns:**\n",
       "  - Climate Talks Visit by HK, Guangdong, Macau Officials\n",
       "- **Labor and Union Actions:**\n",
       "  - Unions See Opportunities in Chip Factories\n",
       "  - Chip Factories are Unions’ Next Target for Biden"
      ],
      "text/plain": [
       "<IPython.core.display.Markdown object>"
      ]
     },
     "metadata": {},
     "output_type": "display_data"
    }
   ],
   "source": [
    "topics = extract_topics_from_titles(key, articles, instructions=[\n",
    "                                   \"Please sort them according to their prominence and cluster them as closely as possible.\",\n",
    "                                   \"Please be as concise as possible.\", \n",
    "                                   \"Please provie only the cluster titles not the actual news titles.\",\n",
    "                                   \"Please keep the bullet point list in one level.\",\n",
    "                                   \"Please use markdown.\"\n",
    "                               ])\n",
    "\n",
    "display(Markdown(topics))"
   ]
  },
  {
   "cell_type": "markdown",
   "metadata": {},
   "source": [
    "# Retrieve topic-relevant emails\n",
    "\n",
    "1. Input the topic string based on the topic list above.\n",
    "2. Retreive the emails with the new query from GMail.\n",
    "3. Extract the main content from HTML."
   ]
  },
  {
   "cell_type": "code",
   "execution_count": 5,
   "metadata": {},
   "outputs": [
    {
     "name": "stdout",
     "output_type": "stream",
     "text": [
      "Total 8 news articles have been retrieved.\n"
     ]
    }
   ],
   "source": [
    "topic = input(\"Please write the topic of your interest\")\n",
    "emails = get_emails(service, days=7, query=f'from:Bloomberg {topic}')\n",
    "articles = format_emails(emails)"
   ]
  },
  {
   "cell_type": "markdown",
   "metadata": {},
   "source": [
    "# Summarize individual articles\n",
    "\n",
    "1. Summarize each article using OpenAI's GPT.\n",
    "2. Print the summarized articles."
   ]
  },
  {
   "cell_type": "code",
   "execution_count": 6,
   "metadata": {},
   "outputs": [
    {
     "data": {
      "text/markdown": [
       "## Selected Articles\n",
       "\n",
       "### 1 Unions See Opportunities in Chip Factories: Washington Edition\n",
       "\n",
       " ### Summary\n",
       "**Unions in the semiconductor industry:**\n",
       "- Unions are looking to organize workers in the semiconductor industry amidst President Biden's economic policies.\n",
       "- Companies like Taiwan Semiconductor Manufacturing Co. and Intel Corp. are set to receive funding under the 2022 Chips Act, creating opportunities for labor unions.\n",
       "- The Communications Workers of America (CWA) is focusing on organizing chip-making workers, similar to the United Auto Workers' drive in the auto industry.\n",
       "\n",
       "**Challenges and Opportunities:**\n",
       "- Organizing the chip industry presents unique challenges due to a lack of unionized semiconductor workers in the US.\n",
       "- Intel, a major player in the industry, has shown reluctance towards union talks, posing a hurdle for the CWA.\n",
       "- Despite challenges, the CWA has secured labor peace negotiations with Micron, potentially paving the way for successful future campaigns.\n",
       "\n",
       "**Future Perspectives and Developments:**\n",
       "- As the Biden administration pushes for a national-security-driven manufacturing boom, there is an opportunity to leverage the Chips Act to promote organized labor.\n",
       "- The administration's negotiations with companies capable of advanced chip manufacturing could influence industry practices and labor relations.\n",
       "- The article also highlights upcoming political events, including speeches by Biden and Trump, as well as the G7 summit and 2024 presidential debates.\n",
       "\n",
       "### 2 Biden’s Labor Board Picks Set Up Clash If Trump Wins Election\n",
       "\n",
       " - President Joe Biden's nominations to the National Labor Relations Board (NLRB) could ensure Democratic control of the board majority until 2026, even if Republican Donald Trump wins the election.\n",
       "- Biden's renomination of NLRB Chair Lauren McFerran and his selection of attorney Joshua Ditelberg for the open Republican seat has drawn criticism from business advocates, who view it as an attempt to solidify radical policies.\n",
       "- The confirmation of McFerran and Ditelberg would secure the NLRB's composition until 2026, potentially impacting significant labor rulings and setting up a clash between Senate Democrats, organized labor, Senate Republicans, and the business lobby.\n",
       "\n",
       "- The possibility of Democrats maintaining control of the NLRB majority under a Republican administration is concerning to the management community, as it could lead to unfavorable outcomes for employers.\n",
       "- Senate consideration of McFerran's renomination is seen as potentially influencing the election process in November, with some arguing that Ditelberg's nomination should be treated separately.\n",
       "- Biden's departure from the bipartisan tradition of pairing NLRB nominations raises questions about the nomination process, particularly regarding the timing and political motivations involved.\n",
       "\n",
       "- Despite the delayed nomination of Ditelberg and the challenges associated with Senate approval, the current Democratic majority in the Senate suggests that his confirmation alongside McFerran is expected.\n",
       "- The ongoing political dynamics surrounding the NLRB appointments highlight the importance of balancing interests between labor and business stakeholders, with potential implications for future labor policy decisions and legal precedents.\n",
       "- The confirmation process for McFerran and Ditelberg, and the potential implications of Democratic control of the NLRB, are subjects of intense scrutiny and debate within the political and legal spheres.\n",
       "\n",
       "### 3 Boeing Working With Union, FAA to Review Employee Concerns (1)\n",
       "\n",
       " **Summary:**\n",
       "\n",
       "- Boeing is collaborating with its largest labor union and the FAA to review safety concerns raised by employees through its Speak Up program, aiming to address issues regarding the company's safety culture. \n",
       "- The efforts to encourage more employees to voice their concerns and ensure they are heard have intensified following a recent incident involving a door plug on a 737 Max aircraft. \n",
       "- The safety report highlights actions taken over the past year and precedes Boeing's upcoming delivery of a 90-day plan to the FAA outlining corrective actions for quality control issues at its factories. The company has seen a significant increase in Speak Up submissions and has conducted product safety training for a large number of employees, while also implementing measures to improve production processes.\n",
       "\n",
       "*Source:* [Bloomberg: Boeing Working With Union, FAA to Review Employee Concerns](insert link)\n",
       "\n",
       "### 4 Chip Factories are Unions’ Next Target in Test For Biden\n",
       "\n",
       " ### News Summary:\n",
       "\n",
       "- **Unions Targeting Chip Factories for Biden's Manufacturing Boom Promise:**\n",
       "  - Unions like the Communications Workers of America are focusing on semiconductor companies to test President Biden's pledge for a manufacturing revival.\n",
       "  - The CWA is in talks with Micron Technology Inc. for a labor peace agreement covering a $50 billion investment in New York, under which the union would not disrupt operations.\n",
       "  - Biden's economic policies offer subsidies for tech sectors like semiconductors, with the aim of creating jobs and fostering organized labor.\n",
       "\n",
       "- **Role of Extreme Ultraviolet Lithography Machines in Semiconductor Production:**\n",
       "  - Extreme ultraviolet lithography machines are crucial for semiconductor manufacturing that drives the artificial intelligence revolution and global economy growth.\n",
       "  - ASML in the Netherlands is a key player in producing these high-tech machines, with restrictions on sales to China enforced by the US government.\n",
       "  - Organized labor campaigns are extending to new factories in line with Biden's policies, potentially challenging industry leaders' historical resistance to unions.\n",
       "\n",
       "- **Leveraging Biden's Chips Act for Labor Rights in Semiconductor Industry:**\n",
       "  - Labor unions seek stronger commitments from semiconductor giants like Intel, Micron, and TSMC, potentially using political influence to negotiate neutrality agreements.\n",
       "  - Chips Act grants are seen as a tool to enforce labor protections, with funding distribution contingent on companies meeting benchmarks and supporting union efforts.\n",
       "  - While specifics of labor agreements under the Chips Act are undisclosed, the Biden administration aims to facilitate discussions between awardees and industrial unions to address workforce issues.\n",
       "\n",
       "### 5 After the Election, a Big Tax Fight Looms: Washington Edition\n",
       "\n",
       " ### Summary:\n",
       "- A looming battle over taxes in 2025 following the 2024 election is expected to directly impact Americans' wallets as Trump-era individual tax cuts are set to expire.\n",
       "- Both Trump and Biden have outlined their tax policy stances, with Trump proposing tax cuts for businesses and individuals, while Biden aims to raise taxes on corporations and maintain certain individual tax cuts.\n",
       "- The potential renewal of individual tax rates could cost upwards of $4 trillion over a decade, with concerns raised about the impact on federal debt and future generations.\n",
       "\n",
       "### Key Points:\n",
       "- A survey shows that 77% of swing state voters support a billionaires tax to save Social Security.\n",
       "- The Biden administration is looking to allocate funding to Kenya under the Chips and Science Act to bolster tech industry relationships.\n",
       "- New home purchases in the US have declined due to affordability challenges caused by high prices and mortgage rates.\n",
       "\n",
       "### Upcoming Events:\n",
       "- Biden will host Kenyan President Ruto for a state dinner at the White House.\n",
       "- The University of Michigan's final read of consumer sentiment for May will be released tomorrow.\n",
       "- The Republican and Democratic conventions are scheduled for July and August, respectively.\n",
       "- The first general election US presidential debate of 2024 will be hosted by CNN on June 27.\n",
       "- The Group of Seven leaders summit is set to convene in Italy from June 13-15.\n",
       "\n",
       "### 6 Biden Moves to Extend Labor Board Chief as He Courts Unions\n",
       "\n",
       " - President Joe Biden is nominating Lauren McFerran for a new five-year term as Chair of the US National Labor Relations Board (NLRB) to secure a Democrat majority on the board. McFerran has been instrumental in issuing union-friendly rulings during her tenure. Biden is also nominating labor lawyer Joshua Ditelberg for a Republican seat on the board which would ensure terms up to 2029 and 2027 for McFerran and Ditelberg, respectively.\n",
       "- The NLRB has faced challenges to its constitutionality by companies like SpaceX, Amazon, and Starbucks. Biden, positioning himself as pro-union, is relying on labor support for his re-election bid against Trump, who is also vying for working-class votes. The union vote in battleground states like Pennsylvania, Michigan, Wisconsin, Nevada, and Georgia could play a crucial role in the upcoming election.\n",
       "- Under Biden's administration, the NLRB has made it easier for workers to organize and win collective bargaining if their employer violates the law. Trump's return to the White House could reshape federal policies on unionizing, as his conservative allies oppose the union drives encouraged by Biden. The upcoming NLRB appointments and potential election outcomes have significant implications for labor policies in the US.\n",
       "\n",
       "### 7 College Athletes Barred From Employment Status in New GOP Bill\n",
       "\n",
       " ### College Athletes Employment Status Bill\n",
       "\n",
       "- **Republican Bill Overview**: \n",
       "  - A new GOP bill aims to prevent college athletes from being classified as employees.\n",
       "  - The Protecting Student Athletes’ Economic Freedom Act would establish that athletes cannot be considered employees under any regulation or law.\n",
       "  - The bill is presented as a way to maintain the balance between academics and athletics in college sports.\n",
       "\n",
       "- **Political Debate and Court Cases**:\n",
       "  - Capitol Hill is embroiled in a debate over college athlete employment rights following the Dartmouth basketball team's move to unionize.\n",
       "  - Republicans view athlete employment classification as a threat to college sports, while Democrats are weighing the consequences of such classification.\n",
       "  - The bill would exempt athletes from minimum wage requirements and labor union rights laws.\n",
       "\n",
       "- **Additional Considerations**:\n",
       "  - Issues such as workplace safety and protection from employment discrimination would be exempted for college athletes under this bill.\n",
       "  - Lawmakers are also discussing potential regulations regarding students' ability to profit from their name, image, and likeness.\n",
       "  - Noteworthy court cases involving the NCAA and student-athletes are also ongoing, showcasing the complexity of this issue.\n",
       "\n",
       "This legislation represents a pivotal moment in the ongoing debate surrounding the employment status of college athletes, impacting not only their rights but also the future landscape of collegiate sports.\n",
       "\n",
       "### 8 American Air, Gate Gourmet Pressed on Contracts to Avoid Strikes\n",
       "\n",
       " - **Negotiations Pressured to Avoid Strikes:**\n",
       "  - President Biden's administration is urging American Airlines and Gate Gourmet to reach new contracts for flight attendants and airline caterers to prevent labor strikes.\n",
       "  - The National Mediation Board has set an end-of-May deadline for both parties to reach an agreement.\n",
       "  - If no deal is reached, a 30-day \"cooling off\" period would ensue, potentially leading to strikes that could disrupt air travel.\n",
       "\n",
       "- **Political and Economic Implications:**\n",
       "  - The labor talks present a challenge for Biden's reelection hopes as they could impact support from organized labor.\n",
       "  - The pressure from Congress and the White House aims to expedite negotiations for long-overdue contracts.\n",
       "  - American Airlines has proposed a 17% pay increase, falling short of the 28% sought by the flight attendants' union.\n",
       "\n",
       "- **Historical Context and Presidential Influence:**\n",
       "  - Previous strikes in the airline industry, including at American Airlines in 1993, highlight the impact of presidential intervention.\n",
       "  - Biden's support for labor unions contrasts with challenges in gaining support from rank-and-file workers.\n",
       "  - Southwest Airlines' recent agreement sets a benchmark for future negotiations at American and United Airlines.\n",
       "\n"
      ],
      "text/plain": [
       "<IPython.core.display.Markdown object>"
      ]
     },
     "metadata": {},
     "output_type": "display_data"
    }
   ],
   "source": [
    "article_summaries = [\n",
    "    {'title': article['title'], 'content': summarize_articles(key, [article], \n",
    "                                                              n_paragraphs=3, \n",
    "                                                              instructions=[\n",
    "                                                                  \"If possible, use bullet points to make it easily readable.\",\n",
    "                                                                  \"Do not hesitate to paraphrase in order to make it readable and informative.\",\n",
    "                                                                  \"Please use markdown.\"])} \n",
    "    for article in articles\n",
    "]\n",
    "\n",
    "summary_text = \"\"\n",
    "\n",
    "for i, article in enumerate(article_summaries):\n",
    "    summary_text += f\"### {i+1} {article['title']}\\n\\n {article['content']}\\n\\n\"\n",
    "\n",
    "display(Markdown(\n",
    "    f\"## Selected Articles\\n\\n{summary_text}\"\n",
    "))"
   ]
  },
  {
   "cell_type": "markdown",
   "metadata": {},
   "source": [
    "# Summarize all articles based on their respective summaries\n",
    "\n",
    "1. Add the article numbers from above into `exclude_articles`, e.g., `exclude_articles=[1, 2]`, to exclude these irrelevant articles.\n",
    "2. Use OpenAI API to summarize these articles."
   ]
  },
  {
   "cell_type": "code",
   "execution_count": 12,
   "metadata": {},
   "outputs": [
    {
     "data": {
      "text/plain": [
       "'Included articles: 1, 2, 3, 4, 6'"
      ]
     },
     "metadata": {},
     "output_type": "display_data"
    }
   ],
   "source": [
    "exclude_articles = [5, 7, 8]\n",
    "included_articles = [i for i in range(len(articles)) if i+1 not in exclude_articles]\n",
    "\n",
    "included_article_summaries = []\n",
    "\n",
    "for i in included_articles:\n",
    "    included_article_summaries.append(article_summaries[i])\n",
    "\n",
    "display(\"Included articles: \" + \", \".join([str(i+1) for i in included_articles]))"
   ]
  },
  {
   "cell_type": "code",
   "execution_count": 15,
   "metadata": {},
   "outputs": [
    {
     "data": {
      "text/markdown": [
       "### Summary\n",
       "\n",
       "**Unions in the Semiconductor Industry:**\n",
       "- Unions are targeting semiconductor industry workers to organize them in line with President Biden's economic plans.\n",
       "- Companies like Taiwan Semiconductor Manufacturing Co. and Intel Corp. stand to benefit from funding under the 2022 Chips Act, providing an opening for labor unions.\n",
       "- The Communications Workers of America (CWA) is initiating efforts to organize chip-making workers, similar to the auto industry.\n",
       "\n",
       "**Challenges and Opportunities:**\n",
       "- Unionizing the chip sector faces obstacles due to the limited presence of unionized semiconductor workers in the US.\n",
       "- While Intel has shown resistance to union discussions, the CWA has managed to secure labor peace negotiations with Micron, potentially setting the stage for future successful campaigns.\n",
       "\n",
       "**Future Perspectives and Developments:**\n",
       "- The Biden administration's push for a manufacturing boom driven by national security could utilize the Chips Act to promote organized labor.\n",
       "- White House negotiations with advanced chip manufacturers could impact industry practices and labor relations.\n",
       "- Scheduled political events, including speeches by Biden and Trump, the G7 summit, and the 2024 presidential debates, will continue to shape the landscape.\n",
       "\n",
       "- Biden's nominations for the National Labor Relations Board (NLRB) aim to secure a Democratic majority until 2026, regardless of the election outcome.\n",
       "- The nominations of Lauren McFerran and Joshua Ditelberg are contentious, drawing criticism from business advocates.\n",
       "- Potential implications of Democratic control of the NLRB amidst a Republican administration raise concerns for the management community.\n",
       "\n",
       "- Boeing collaborates with its labor union and the FAA to address safety concerns raised by employees through the Speak Up program.\n",
       "- Efforts to enhance safety culture follow a recent incident involving a 737 Max aircraft, with Boeing outlining corrective actions in a forthcoming 90-day plan to the FAA.\n",
       "- The company has witnessed increased employee submissions, provided safety training, and improved production processes."
      ],
      "text/plain": [
       "<IPython.core.display.Markdown object>"
      ]
     },
     "metadata": {},
     "output_type": "display_data"
    }
   ],
   "source": [
    "summary = summarize_articles(key, \n",
    "                             included_article_summaries, \n",
    "                             n_paragraphs=5, \n",
    "                             instructions=[\n",
    "                                 \"If possible, use bullet points to make it easily readable.\",\n",
    "                                 \"Please avoid making any subjective assessment.\", \n",
    "                                 \"Please draw insights across multiple articles.\",\n",
    "                                 \"Do not hesitate to paraphrase in order to make it readable and informative.\",\n",
    "                                 \"Please use markdown.\"])\n",
    "\n",
    "display(Markdown(summary))"
   ]
  },
  {
   "cell_type": "code",
   "execution_count": null,
   "metadata": {},
   "outputs": [],
   "source": []
  }
 ],
 "metadata": {
  "kernelspec": {
   "display_name": "cloudspace",
   "language": "python",
   "name": "python3"
  },
  "language_info": {
   "codemirror_mode": {
    "name": "ipython",
    "version": 3
   },
   "file_extension": ".py",
   "mimetype": "text/x-python",
   "name": "python",
   "nbconvert_exporter": "python",
   "pygments_lexer": "ipython3",
   "version": "3.10.14"
  }
 },
 "nbformat": 4,
 "nbformat_minor": 2
}
